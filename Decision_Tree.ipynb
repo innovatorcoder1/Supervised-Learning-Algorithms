{
  "nbformat": 4,
  "nbformat_minor": 0,
  "metadata": {
    "colab": {
      "provenance": [],
      "authorship_tag": "ABX9TyOxP9xp5NmtivQZ1N294MwV",
      "include_colab_link": true
    },
    "kernelspec": {
      "name": "python3",
      "display_name": "Python 3"
    },
    "language_info": {
      "name": "python"
    }
  },
  "cells": [
    {
      "cell_type": "markdown",
      "metadata": {
        "id": "view-in-github",
        "colab_type": "text"
      },
      "source": [
        "<a href=\"https://colab.research.google.com/github/innovatorcoder1/Supervised-Learning-Algorithms/blob/main/Decision_Tree.ipynb\" target=\"_parent\"><img src=\"https://colab.research.google.com/assets/colab-badge.svg\" alt=\"Open In Colab\"/></a>"
      ]
    },
    {
      "cell_type": "code",
      "source": [
        "pip install ucimlrepo"
      ],
      "metadata": {
        "colab": {
          "base_uri": "https://localhost:8080/"
        },
        "id": "UCANMYhUDu3n",
        "outputId": "4dbd51c0-4951-43c1-d22f-824c54052374"
      },
      "execution_count": 3,
      "outputs": [
        {
          "output_type": "stream",
          "name": "stdout",
          "text": [
            "Collecting ucimlrepo\n",
            "  Downloading ucimlrepo-0.0.7-py3-none-any.whl.metadata (5.5 kB)\n",
            "Requirement already satisfied: pandas>=1.0.0 in /usr/local/lib/python3.11/dist-packages (from ucimlrepo) (2.2.2)\n",
            "Requirement already satisfied: certifi>=2020.12.5 in /usr/local/lib/python3.11/dist-packages (from ucimlrepo) (2025.7.14)\n",
            "Requirement already satisfied: numpy>=1.23.2 in /usr/local/lib/python3.11/dist-packages (from pandas>=1.0.0->ucimlrepo) (2.0.2)\n",
            "Requirement already satisfied: python-dateutil>=2.8.2 in /usr/local/lib/python3.11/dist-packages (from pandas>=1.0.0->ucimlrepo) (2.9.0.post0)\n",
            "Requirement already satisfied: pytz>=2020.1 in /usr/local/lib/python3.11/dist-packages (from pandas>=1.0.0->ucimlrepo) (2025.2)\n",
            "Requirement already satisfied: tzdata>=2022.7 in /usr/local/lib/python3.11/dist-packages (from pandas>=1.0.0->ucimlrepo) (2025.2)\n",
            "Requirement already satisfied: six>=1.5 in /usr/local/lib/python3.11/dist-packages (from python-dateutil>=2.8.2->pandas>=1.0.0->ucimlrepo) (1.17.0)\n",
            "Downloading ucimlrepo-0.0.7-py3-none-any.whl (8.0 kB)\n",
            "Installing collected packages: ucimlrepo\n",
            "Successfully installed ucimlrepo-0.0.7\n"
          ]
        }
      ]
    },
    {
      "cell_type": "code",
      "source": [
        "from ucimlrepo import fetch_ucirepo\n",
        "\n",
        "# fetch dataset\n",
        "bank_marketing = fetch_ucirepo(id=222)\n",
        "\n",
        "# data (as pandas dataframes)\n",
        "X = bank_marketing.data.features\n",
        "y = bank_marketing.data.targets\n",
        "\n",
        "# metadata\n",
        "#print(bank_marketing.metadata)\n",
        "\n",
        "# variable information\n",
        "#print(bank_marketing.variables)\n"
      ],
      "metadata": {
        "id": "FoBt-zk8E9Fl"
      },
      "execution_count": 13,
      "outputs": []
    },
    {
      "cell_type": "code",
      "source": [
        "print(X.columns)"
      ],
      "metadata": {
        "colab": {
          "base_uri": "https://localhost:8080/"
        },
        "id": "eE3wKTyhFE6d",
        "outputId": "9c56ab5b-b5e9-44dd-e71a-51ae16d046cb"
      },
      "execution_count": 6,
      "outputs": [
        {
          "output_type": "stream",
          "name": "stdout",
          "text": [
            "Index(['age', 'job', 'marital', 'education', 'default', 'balance', 'housing',\n",
            "       'loan', 'contact', 'day_of_week', 'month', 'duration', 'campaign',\n",
            "       'pdays', 'previous', 'poutcome'],\n",
            "      dtype='object')\n"
          ]
        }
      ]
    },
    {
      "cell_type": "code",
      "source": [
        "print(y.columns)"
      ],
      "metadata": {
        "colab": {
          "base_uri": "https://localhost:8080/"
        },
        "id": "HttIi7kiFW-L",
        "outputId": "22fd2107-c7b5-444e-c221-48f9670fc719"
      },
      "execution_count": 7,
      "outputs": [
        {
          "output_type": "stream",
          "name": "stdout",
          "text": [
            "Index(['y'], dtype='object')\n"
          ]
        }
      ]
    },
    {
      "cell_type": "code",
      "source": [
        "print(X.info())"
      ],
      "metadata": {
        "colab": {
          "base_uri": "https://localhost:8080/"
        },
        "id": "vDnWsXmNFbir",
        "outputId": "d10198cb-ad3c-40fc-c85f-b3dbaf981848"
      },
      "execution_count": 8,
      "outputs": [
        {
          "output_type": "stream",
          "name": "stdout",
          "text": [
            "<class 'pandas.core.frame.DataFrame'>\n",
            "RangeIndex: 45211 entries, 0 to 45210\n",
            "Data columns (total 16 columns):\n",
            " #   Column       Non-Null Count  Dtype \n",
            "---  ------       --------------  ----- \n",
            " 0   age          45211 non-null  int64 \n",
            " 1   job          44923 non-null  object\n",
            " 2   marital      45211 non-null  object\n",
            " 3   education    43354 non-null  object\n",
            " 4   default      45211 non-null  object\n",
            " 5   balance      45211 non-null  int64 \n",
            " 6   housing      45211 non-null  object\n",
            " 7   loan         45211 non-null  object\n",
            " 8   contact      32191 non-null  object\n",
            " 9   day_of_week  45211 non-null  int64 \n",
            " 10  month        45211 non-null  object\n",
            " 11  duration     45211 non-null  int64 \n",
            " 12  campaign     45211 non-null  int64 \n",
            " 13  pdays        45211 non-null  int64 \n",
            " 14  previous     45211 non-null  int64 \n",
            " 15  poutcome     8252 non-null   object\n",
            "dtypes: int64(7), object(9)\n",
            "memory usage: 5.5+ MB\n",
            "None\n"
          ]
        }
      ]
    },
    {
      "cell_type": "code",
      "source": [
        "print(X.isnull().sum())"
      ],
      "metadata": {
        "colab": {
          "base_uri": "https://localhost:8080/"
        },
        "id": "Apb7HEdiFs33",
        "outputId": "12257c58-aaf1-42f0-b660-172ec1406af9"
      },
      "execution_count": 15,
      "outputs": [
        {
          "output_type": "stream",
          "name": "stdout",
          "text": [
            "age                0\n",
            "job              288\n",
            "marital            0\n",
            "education       1857\n",
            "default            0\n",
            "balance            0\n",
            "housing            0\n",
            "loan               0\n",
            "contact        13020\n",
            "day_of_week        0\n",
            "month              0\n",
            "duration           0\n",
            "campaign           0\n",
            "pdays              0\n",
            "previous           0\n",
            "poutcome       36959\n",
            "dtype: int64\n"
          ]
        }
      ]
    },
    {
      "cell_type": "code",
      "source": [
        "X.drop(['contact', 'poutcome'], axis=1, inplace=True)"
      ],
      "metadata": {
        "colab": {
          "base_uri": "https://localhost:8080/"
        },
        "id": "2UuDlZ2AH4jJ",
        "outputId": "4bb0ee35-295f-42a0-e549-daf78e483b28"
      },
      "execution_count": 16,
      "outputs": [
        {
          "output_type": "stream",
          "name": "stderr",
          "text": [
            "/tmp/ipython-input-16-3289033756.py:1: SettingWithCopyWarning: \n",
            "A value is trying to be set on a copy of a slice from a DataFrame\n",
            "\n",
            "See the caveats in the documentation: https://pandas.pydata.org/pandas-docs/stable/user_guide/indexing.html#returning-a-view-versus-a-copy\n",
            "  X.drop(['contact', 'poutcome'], axis=1, inplace=True)\n"
          ]
        }
      ]
    },
    {
      "cell_type": "code",
      "source": [
        "print(X.isnull().sum())"
      ],
      "metadata": {
        "colab": {
          "base_uri": "https://localhost:8080/"
        },
        "id": "U93cj40TIOeZ",
        "outputId": "89cd5705-323b-4658-c8c0-91d72e710158"
      },
      "execution_count": 18,
      "outputs": [
        {
          "output_type": "stream",
          "name": "stdout",
          "text": [
            "age               0\n",
            "job             288\n",
            "marital           0\n",
            "education      1857\n",
            "default           0\n",
            "balance           0\n",
            "housing           0\n",
            "loan              0\n",
            "day_of_week       0\n",
            "month             0\n",
            "duration          0\n",
            "campaign          0\n",
            "pdays             0\n",
            "previous          0\n",
            "dtype: int64\n"
          ]
        }
      ]
    },
    {
      "cell_type": "code",
      "source": [
        "print(X['education'].head(10))"
      ],
      "metadata": {
        "colab": {
          "base_uri": "https://localhost:8080/"
        },
        "id": "XyhoHpgXIbmq",
        "outputId": "c79a9648-c3dd-40a7-ebbf-da0ff0fc41e9"
      },
      "execution_count": 19,
      "outputs": [
        {
          "output_type": "stream",
          "name": "stdout",
          "text": [
            "0     tertiary\n",
            "1    secondary\n",
            "2    secondary\n",
            "3          NaN\n",
            "4          NaN\n",
            "5     tertiary\n",
            "6     tertiary\n",
            "7     tertiary\n",
            "8      primary\n",
            "9    secondary\n",
            "Name: education, dtype: object\n"
          ]
        }
      ]
    }
  ]
}