{
  "nbformat": 4,
  "nbformat_minor": 0,
  "metadata": {
    "colab": {
      "provenance": [],
      "authorship_tag": "ABX9TyPT4dLSD1x6G3HW1FnzSVwo",
      "include_colab_link": true
    },
    "kernelspec": {
      "name": "python3",
      "display_name": "Python 3"
    },
    "language_info": {
      "name": "python"
    }
  },
  "cells": [
    {
      "cell_type": "markdown",
      "metadata": {
        "id": "view-in-github",
        "colab_type": "text"
      },
      "source": [
        "<a href=\"https://colab.research.google.com/github/innovatorcoder1/Supervised-Learning-Algorithms/blob/main/Decision_Tree.ipynb\" target=\"_parent\"><img src=\"https://colab.research.google.com/assets/colab-badge.svg\" alt=\"Open In Colab\"/></a>"
      ]
    },
    {
      "cell_type": "code",
      "execution_count": 1,
      "metadata": {
        "colab": {
          "base_uri": "https://localhost:8080/"
        },
        "id": "wsQSnu3JCCye",
        "outputId": "1de65404-4b6f-47b7-d33c-2e16a9026306"
      },
      "outputs": [
        {
          "output_type": "stream",
          "name": "stdout",
          "text": [
            "Cloning into 'LDA'...\n",
            "fatal: repository 'https://github.com/innovatorcoder1/Supervised-Learning-Algorithms/tree/25d1c286da0d5aa36fc1784b11f23ef8bd586e94/Classification%20Algorithms/LDA/' not found\n"
          ]
        }
      ],
      "source": [
        "!git clone https://github.com/innovatorcoder1/Supervised-Learning-Algorithms/tree/25d1c286da0d5aa36fc1784b11f23ef8bd586e94/Classification%20Algorithms/LDA"
      ]
    }
  ]
}